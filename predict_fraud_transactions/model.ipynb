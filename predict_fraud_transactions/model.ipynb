{
 "cells": [
  {
   "cell_type": "code",
   "execution_count": 2,
   "metadata": {
    "collapsed": false
   },
   "outputs": [
    {
     "name": "stderr",
     "output_type": "stream",
     "text": [
      "/anaconda/lib/python3.6/site-packages/sklearn/cross_validation.py:44: DeprecationWarning: This module was deprecated in version 0.18 in favor of the model_selection module into which all the refactored classes and functions are moved. Also note that the interface of the new CV iterators are different from that of this module. This module will be removed in 0.20.\n",
      "  \"This module will be removed in 0.20.\", DeprecationWarning)\n"
     ]
    }
   ],
   "source": [
    "import numpy as np\n",
    "import os\n",
    "import pandas as pd\n",
    "import sys\n",
    "import matplotlib.pyplot as plt\n",
    "import seaborn as sns\n",
    "%matplotlib inline\n",
    "from sklearn.model_selection import train_test_split\n",
    "from sklearn.naive_bayes import MultinomialNB\n",
    "from sklearn.svm import LinearSVR, LinearSVC\n",
    "from sklearn.ensemble import VotingClassifier\n",
    "from sklearn.tree import DecisionTreeClassifier, ExtraTreeClassifier\n",
    "from sklearn.ensemble import RandomForestRegressor, GradientBoostingRegressor, RandomForestClassifier, GradientBoostingClassifier\n",
    "from sklearn.linear_model import SGDRegressor, LinearRegression, BayesianRidge, Lasso, HuberRegressor, ElasticNetCV\n",
    "from sklearn.linear_model import Ridge, RidgeCV, ElasticNet, LassoCV, LassoLarsCV, LogisticRegression\n",
    "from sklearn.cross_validation import cross_val_score\n",
    "from sklearn.metrics import accuracy_score, make_scorer, r2_score, roc_auc_score, recall_score, precision_score, average_precision_score\n",
    "\n",
    "\n",
    "np.random.seed(25)"
   ]
  },
  {
   "cell_type": "code",
   "execution_count": 3,
   "metadata": {
    "collapsed": true
   },
   "outputs": [],
   "source": [
    "train = pd.read_csv(\"train.csv\")\n",
    "test = pd.read_csv(\"test.csv\")"
   ]
  },
  {
   "cell_type": "code",
   "execution_count": 4,
   "metadata": {
    "collapsed": false
   },
   "outputs": [
    {
     "data": {
      "text/plain": [
       "<matplotlib.text.Text at 0x12b9d0c88>"
      ]
     },
     "execution_count": 4,
     "metadata": {},
     "output_type": "execute_result"
    },
    {
     "data": {
      "image/png": "[encoded data removed]",
      "text/plain": [
       "<matplotlib.figure.Figure at 0x12b9c4908>"
      ]
     },
     "metadata": {},
     "output_type": "display_data"
    }
   ],
   "source": [
    "# Check whether dataset is balanced or not\n",
    "\n",
    "count_classes = pd.value_counts(train['target'], sort = True).sort_index()\n",
    "count_classes.plot(kind = 'bar')\n",
    "plt.title(\"Fraud class histogram\")\n",
    "plt.xlabel(\"Class\")\n",
    "plt.ylabel(\"Frequency\")"
   ]
  },
  {
   "cell_type": "code",
   "execution_count": 5,
   "metadata": {
    "collapsed": false
   },
   "outputs": [
    {
     "data": {
      "text/plain": [
       "transaction_id         0\n",
       "num_var_1              0\n",
       "num_var_2              0\n",
       "num_var_3              0\n",
       "num_var_4              0\n",
       "num_var_5              0\n",
       "num_var_6              0\n",
       "num_var_7              0\n",
       "cat_var_1          15782\n",
       "cat_var_2              0\n",
       "cat_var_3          43853\n",
       "cat_var_4              0\n",
       "cat_var_5              0\n",
       "cat_var_6              0\n",
       "cat_var_7              0\n",
       "cat_var_8         109738\n",
       "cat_var_9              0\n",
       "cat_var_10             0\n",
       "cat_var_11             0\n",
       "cat_var_12             0\n",
       "cat_var_13             0\n",
       "cat_var_14             0\n",
       "cat_var_15             0\n",
       "cat_var_16             0\n",
       "cat_var_17             0\n",
       "cat_var_18             0\n",
       "cat_var_19             0\n",
       "cat_var_20             0\n",
       "cat_var_21             0\n",
       "cat_var_22             0\n",
       "cat_var_23             0\n",
       "cat_var_24             0\n",
       "cat_var_25             0\n",
       "cat_var_26             0\n",
       "cat_var_27             0\n",
       "cat_var_28             0\n",
       "cat_var_29             0\n",
       "cat_var_30             0\n",
       "cat_var_31             0\n",
       "cat_var_32             0\n",
       "cat_var_33             0\n",
       "cat_var_34             0\n",
       "cat_var_35             0\n",
       "cat_var_36             0\n",
       "cat_var_37             0\n",
       "cat_var_38             0\n",
       "cat_var_39             0\n",
       "cat_var_40             0\n",
       "cat_var_41             0\n",
       "cat_var_42             0\n",
       "target                 0\n",
       "dtype: int64"
      ]
     },
     "execution_count": 5,
     "metadata": {},
     "output_type": "execute_result"
    }
   ],
   "source": [
    "train.isnull().sum(axis=0)"
   ]
  },
  {
   "cell_type": "code",
   "execution_count": 6,
   "metadata": {
    "collapsed": true
   },
   "outputs": [],
   "source": [
    "# Drop unnecessary features\n",
    "\n",
    "train = train.drop(['cat_var_23', 'cat_var_24', 'cat_var_25', 'cat_var_26', 'cat_var_27', 'cat_var_28', 'cat_var_29', 'cat_var_30', 'cat_var_31', 'cat_var_32', 'cat_var_33',\n",
    "                    'cat_var_34', 'cat_var_35', 'cat_var_36', 'cat_var_37', 'cat_var_38', 'cat_var_39', 'cat_var_40', 'cat_var_41', 'cat_var_42'], axis=1)\n",
    "test = test.drop(['cat_var_23', 'cat_var_24', 'cat_var_25', 'cat_var_26', 'cat_var_27', 'cat_var_28', 'cat_var_29', 'cat_var_30', 'cat_var_31', 'cat_var_32', 'cat_var_33',\n",
    "                  'cat_var_34', 'cat_var_35', 'cat_var_36', 'cat_var_37', 'cat_var_38', 'cat_var_39', 'cat_var_40', 'cat_var_41', 'cat_var_42'], axis=1)"
   ]
  },
  {
   "cell_type": "code",
   "execution_count": 7,
   "metadata": {
    "collapsed": true
   },
   "outputs": [],
   "source": [
    "train = train.fillna({'cat_var_1': str('df'), 'cat_var_3': str('qt'), 'cat_var_8': str('dn')})\n",
    "test = test.fillna({'cat_var_1': str('gf'), 'cat_var_3': str('qt'), 'cat_var_6': str('zs'), 'cat_var_8': str('dn')})"
   ]
  },
  {
   "cell_type": "code",
   "execution_count": 8,
   "metadata": {
    "collapsed": true
   },
   "outputs": [],
   "source": [
    "# One-hot encoding\n",
    "from sklearn.preprocessing import LabelEncoder\n",
    "\n",
    "lb_make = LabelEncoder()\n",
    "for i in range(1,23):\n",
    "    train[\"cat_var_\" + str(i)] = lb_make.fit_transform(train[\"cat_var_\" + str(i)])\n",
    "\n",
    "\n",
    "for i in range(1,23):\n",
    "    test[\"cat_var_\" + str(i)] = lb_make.fit_transform(test[\"cat_var_\" + str(i)])"
   ]
  },
  {
   "cell_type": "code",
   "execution_count": 9,
   "metadata": {
    "collapsed": true
   },
   "outputs": [],
   "source": [
    "feature_names = [x for x in train.columns if x not in ['transaction_id','target']]\n",
    "target = train['target']"
   ]
  },
  {
   "cell_type": "code",
   "execution_count": 10,
   "metadata": {
    "collapsed": true
   },
   "outputs": [],
   "source": [
    "import xgboost as xgb"
   ]
  },
  {
   "cell_type": "code",
   "execution_count": 11,
   "metadata": {
    "collapsed": true
   },
   "outputs": [],
   "source": [
    "# default parameters\n",
    "params = {'objective':'binary:logistic',\n",
    "          'max_delta_step': 1,\n",
    "           'eval_metric':'auc',\n",
    "          'max_depth': 3\n",
    "         }"
   ]
  },
  {
   "cell_type": "code",
   "execution_count": 12,
   "metadata": {
    "collapsed": true
   },
   "outputs": [],
   "source": [
    "X_train, X_valid, y_train, y_valid = train_test_split(train[feature_names], target, train_size = 0.7, stratify = target, random_state = 2017)"
   ]
  },
  {
   "cell_type": "code",
   "execution_count": 13,
   "metadata": {
    "collapsed": true
   },
   "outputs": [],
   "source": [
    "dtrain = xgb.DMatrix(data=X_train[feature_names], label=y_train)\n",
    "dvalid = xgb.DMatrix(data=X_valid[feature_names], label=y_valid)\n",
    "dtest = xgb.DMatrix(data=test[feature_names])\n",
    "watchlist = [(dtrain, 'train'),(dvalid, 'eval')]"
   ]
  },
  {
   "cell_type": "code",
   "execution_count": 14,
   "metadata": {
    "collapsed": false
   },
   "outputs": [
    {
     "name": "stdout",
     "output_type": "stream",
     "text": [
      "[0]\ttrain-auc:0.637738\teval-auc:0.636852\n",
      "Multiple eval metrics have been passed: 'eval-auc' will be used for early stopping.\n",
      "\n",
      "Will train until eval-auc hasn't improved in 40 rounds.\n",
      "[20]\ttrain-auc:0.722777\teval-auc:0.718269\n",
      "[40]\ttrain-auc:0.727563\teval-auc:0.719441\n",
      "[60]\ttrain-auc:0.731403\teval-auc:0.719865\n",
      "[80]\ttrain-auc:0.735133\teval-auc:0.721274\n",
      "[100]\ttrain-auc:0.737226\teval-auc:0.721876\n",
      "[120]\ttrain-auc:0.741486\teval-auc:0.722016\n",
      "[140]\ttrain-auc:0.744566\teval-auc:0.722591\n",
      "[160]\ttrain-auc:0.747378\teval-auc:0.722892\n",
      "[180]\ttrain-auc:0.748514\teval-auc:0.723866\n",
      "[200]\ttrain-auc:0.750545\teval-auc:0.72439\n",
      "[220]\ttrain-auc:0.753361\teval-auc:0.724058\n",
      "Stopping. Best iteration:\n",
      "[197]\ttrain-auc:0.750336\teval-auc:0.724591\n",
      "\n"
     ]
    }
   ],
   "source": [
    "model = xgb.train(params, dtrain, 1000, watchlist, maximize=True, verbose_eval=20, early_stopping_rounds=40)"
   ]
  },
  {
   "cell_type": "code",
   "execution_count": 15,
   "metadata": {
    "collapsed": true
   },
   "outputs": [],
   "source": [
    "pred = model.predict(dtest)"
   ]
  },
  {
   "cell_type": "code",
   "execution_count": 16,
   "metadata": {
    "collapsed": false
   },
   "outputs": [
    {
     "data": {
      "text/plain": [
       "array([ 0.05806381,  0.07861626,  0.08059821,  0.07636834,  0.09758954,\n",
       "        0.11005983,  0.13982588,  0.09103127,  0.14241676,  0.0697377 ], dtype=float32)"
      ]
     },
     "execution_count": 16,
     "metadata": {},
     "output_type": "execute_result"
    }
   ],
   "source": [
    "pred[:10]"
   ]
  },
  {
   "cell_type": "code",
   "execution_count": 18,
   "metadata": {
    "collapsed": true
   },
   "outputs": [],
   "source": [
    "## make submission\n",
    "sub = pd.DataFrame()\n",
    "sub['transaction_id'] = test['transaction_id']\n",
    "sub['target'] = pred\n",
    "sub.to_csv('result.csv', index=False)"
   ]
  },
  {
   "cell_type": "code",
   "execution_count": null,
   "metadata": {
    "collapsed": true
   },
   "outputs": [],
   "source": []
  }
 ],
 "metadata": {
  "kernelspec": {
   "display_name": "Python 3",
   "language": "python",
   "name": "python3"
  },
  "language_info": {
   "codemirror_mode": {
    "name": "ipython",
    "version": 3
   },
   "file_extension": ".py",
   "mimetype": "text/x-python",
   "name": "python",
   "nbconvert_exporter": "python",
   "pygments_lexer": "ipython3",
   "version": "3.6.0"
  }
 },
 "nbformat": 4,
 "nbformat_minor": 2
}
